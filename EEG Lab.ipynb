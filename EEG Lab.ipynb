{
 "cells": [
  {
   "cell_type": "markdown",
   "metadata": {},
   "source": [
    "# Welcome to Jupyter!"
   ]
  },
  {
   "cell_type": "markdown",
   "metadata": {},
   "source": [
    "This repo contains an introduction to [Jupyter](https://jupyter.org) and [IPython](https://ipython.org).\n",
    "\n",
    "Outline of some basics:\n",
    "\n",
    "* [Notebook Basics](../examples/Notebook/Notebook%20Basics.ipynb)\n",
    "* [IPython - beyond plain python](../examples/IPython%20Kernel/Beyond%20Plain%20Python.ipynb)\n",
    "* [Markdown Cells](../examples/Notebook/Working%20With%20Markdown%20Cells.ipynb)\n",
    "* [Rich Display System](../examples/IPython%20Kernel/Rich%20Output.ipynb)\n",
    "* [Custom Display logic](../examples/IPython%20Kernel/Custom%20Display%20Logic.ipynb)\n",
    "* [Running a Secure Public Notebook Server](../examples/Notebook/Running%20the%20Notebook%20Server.ipynb#Securing-the-notebook-server)\n",
    "* [How Jupyter works](../examples/Notebook/Multiple%20Languages%2C%20Frontends.ipynb) to run code in different languages."
   ]
  },
  {
   "cell_type": "code",
   "execution_count": 2,
   "metadata": {},
   "outputs": [],
   "source": [
    "# import packages\n",
    "import statistics \n",
    "import pandas as pd\n",
    "import scipy.stats as stats\n",
    "from scipy.stats import sem\n",
    "from statistics import mean, stdev\n",
    "import matplotlib.pyplot as plt\n",
    "#include if using a jupyter notebook, remove if using a .py file\n",
    "%matplotlib inline  "
   ]
  },
  {
   "cell_type": "code",
   "execution_count": 3,
   "metadata": {},
   "outputs": [],
   "source": [
    "# data\n",
    "Open = [.645, 1.175, .952, .901, .899]\n",
    "Closed = [.922, 1.019, .825, 1.056, .985]"
   ]
  },
  {
   "cell_type": "code",
   "execution_count": 4,
   "metadata": {},
   "outputs": [],
   "source": [
    "# find the mean using the mean() function from the statistics library\n",
    "Open_mean = mean(Open)\n",
    "Closed_mean = mean(Closed)\n",
    "\n",
    "# find the standard deviation using the stdev() function from the statistics library\n",
    "Open_stdev = stdev(Open)\n",
    "Closed_stdev = stdev(Closed)\n",
    "\n",
    "# find the standard error using SciPY\n",
    "Open_sem = sem(Open)\n",
    "Closed_sem = sem(Closed)"
   ]
  },
  {
   "cell_type": "code",
   "execution_count": 6,
   "metadata": {},
   "outputs": [
    {
     "data": {
      "image/png": "[encoded data removed]",
      "text/plain": [
       "<Figure size 432x288 with 1 Axes>"
      ]
     },
     "metadata": {
      "needs_background": "light"
     },
     "output_type": "display_data"
    }
   ],
   "source": [
    "# build a bar plot\n",
    "plt.bar(['Open', 'Closed'],[Open_mean, Closed_mean], yerr=[Open_sem, Closed_sem], capsize=10)\n",
    "plt.xlabel('Eyes Status (Open or Closed)')\n",
    "plt.ylabel('Voltage (uV)')\n",
    "plt.title('Average EEG Readings Based Upon Eye Status')\n",
    "plt.savefig('plot.png')\n",
    "plt.show()\n",
    "\n"
   ]
  },
  {
   "cell_type": "code",
   "execution_count": 7,
   "metadata": {},
   "outputs": [
    {
     "data": {
      "text/plain": [
       "Ttest_indResult(statistic=-0.5020204425704629, pvalue=0.6291762845589495)"
      ]
     },
     "metadata": {},
     "output_type": "display_data"
    }
   ],
   "source": [
    "#Open and Closed refer to your groups that you are comparing\n",
    "\n",
    "res = stats.ttest_ind(Open, Closed, \n",
    "                      equal_var=True)\n",
    "\n",
    "display(res)"
   ]
  },
  {
   "cell_type": "code",
   "execution_count": null,
   "metadata": {},
   "outputs": [],
   "source": []
  }
 ],
 "metadata": {
  "kernelspec": {
   "display_name": "Python 3",
   "language": "python",
   "name": "python3"
  },
  "language_info": {
   "codemirror_mode": {
    "name": "ipython",
    "version": 3
   },
   "file_extension": ".py",
   "mimetype": "text/x-python",
   "name": "python",
   "nbconvert_exporter": "python",
   "pygments_lexer": "ipython3",
   "version": "3.6.15"
  }
 },
 "nbformat": 4,
 "nbformat_minor": 2
}
